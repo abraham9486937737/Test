{
 "cells": [
  {
   "cell_type": "code",
   "execution_count": null,
   "id": "ba8b6c33",
   "metadata": {},
   "outputs": [],
   "source": [
    "#python data types\n",
    "#integer data type that holds whole number\n",
    "int = 10\n",
    "#float this holds the floating point number\n",
    "float = 123.45\n",
    "#string, this holds the string value (text)\n",
    "#bool, this returns true or flase boolean values\n",
    "bool = True\n",
    "bool = False\n",
    "#list, this holds the list of values and the liste is ordered and changable\n",
    "list = [1, 2, 3]\n",
    "#tuple, this holds the collection values and it is ordred and unchangable\n",
    "tuple = (1, 2, 3)\n",
    "#set, his holds the collection of values and it is unorder and no duplicates\n",
    "set = {1, 2, 3}\n",
    "#dictionary, this hold the collection of values and it is a key value pairs\n",
    "dict = {\"name\": \"abraham\", \"age\": \"45\"}"
   ]
  }
 ],
 "metadata": {
  "language_info": {
   "name": "python"
  }
 },
 "nbformat": 4,
 "nbformat_minor": 5
}
